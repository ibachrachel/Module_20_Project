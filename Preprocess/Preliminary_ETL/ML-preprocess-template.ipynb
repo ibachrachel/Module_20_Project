{
 "cells": [
  {
   "cell_type": "code",
   "execution_count": null,
   "id": "4b7fe176",
   "metadata": {},
   "outputs": [],
   "source": [
    "# Initial imports\n",
    "import pandas as pd\n",
    "import hvplot.pandas\n",
    "from pathlib import Path\n",
    "import plotly.express as px\n",
    "from sklearn.preprocessing import StandardScaler, MinMaxScaler\n",
    "from sklearn.decomposition import PCA\n",
    "from sklearn.cluster import KMeans"
   ]
  },
  {
   "cell_type": "code",
   "execution_count": null,
   "id": "652e51c5",
   "metadata": {},
   "outputs": [],
   "source": [
    "# Load the the dataset into the notebook\n",
    "\n",
    "file_path = \"Resources/<datasetname>.csv\""
   ]
  },
  {
   "cell_type": "code",
   "execution_count": null,
   "id": "4fa7314b",
   "metadata": {},
   "outputs": [],
   "source": [
    "# create the dataframe without the numbered rows by using index = 0\n",
    "\n",
    "df = pd.read_csv(file_path, index_col=0)"
   ]
  },
  {
   "cell_type": "code",
   "execution_count": null,
   "id": "b013ff59",
   "metadata": {},
   "outputs": [],
   "source": [
    "# examine how the data is shaped\n",
    "# this is help to understand if we are dealing with a long or wide set\n",
    "\n",
    "print(df.shape)"
   ]
  },
  {
   "cell_type": "code",
   "execution_count": null,
   "id": "1fb376fc",
   "metadata": {},
   "outputs": [],
   "source": [
    "# Make sure that the data is appearing by checking on the head\n",
    "\n",
    "df.head(10)"
   ]
  },
  {
   "cell_type": "code",
   "execution_count": null,
   "id": "a62363f3",
   "metadata": {},
   "outputs": [],
   "source": [
    "# Check out the data types: this could reveal additonal conversions that might need to happen \n",
    "\n",
    "df.dtypes"
   ]
  },
  {
   "cell_type": "code",
   "execution_count": null,
   "id": "f6e40a98",
   "metadata": {},
   "outputs": [],
   "source": [
    "#convert the data type of any columns that might need to be changed to different formats\n",
    "# this will be subjective and might need to occur later based on if the analysis is working\n",
    "\n",
    "df[\"column name\"] = df[\"<same column name\"].astype(dtype='<what data type you want it to be')"
   ]
  },
  {
   "cell_type": "code",
   "execution_count": null,
   "id": "4c2be1e1",
   "metadata": {},
   "outputs": [],
   "source": [
    "# Clean the dataset by removing columns that will hinder the analysis\n",
    "\n",
    "df.drop(axis=1, labels=\"<column name>\", inplace=True)"
   ]
  },
  {
   "cell_type": "code",
   "execution_count": null,
   "id": "3f520c78",
   "metadata": {},
   "outputs": [],
   "source": [
    "# Check on the data: assure that the column(s) was removed\n",
    "\n",
    "print(df.shape)\n",
    "\n",
    "df.head(5)"
   ]
  },
  {
   "cell_type": "code",
   "execution_count": null,
   "id": "b85fd280",
   "metadata": {},
   "outputs": [],
   "source": [
    "# Remove rows that have at least 1 null value.\n",
    "\n",
    "df.dropna(how='any', inplace=True)\n",
    "\n",
    "# Check the dataset shape and head to make sure the nulls were removed\n",
    "\n",
    "print(df.shape)\n",
    "\n",
    "df.head(5)"
   ]
  },
  {
   "cell_type": "code",
   "execution_count": null,
   "id": "9932911b",
   "metadata": {},
   "outputs": [],
   "source": [
    "# Sometimes data is not recognizable formats: sort from least to greatest\n",
    "\n",
    "sorted(df[\"<column name>\"])\n",
    "\n",
    "\n",
    "#might need to specify only positive values to be selected"
   ]
  }
 ],
 "metadata": {
  "kernelspec": {
   "display_name": "mlenv",
   "language": "python",
   "name": "mlenv"
  },
  "language_info": {
   "codemirror_mode": {
    "name": "ipython",
    "version": 3
   },
   "file_extension": ".py",
   "mimetype": "text/x-python",
   "name": "python",
   "nbconvert_exporter": "python",
   "pygments_lexer": "ipython3",
   "version": "3.7.13"
  }
 },
 "nbformat": 4,
 "nbformat_minor": 5
}
